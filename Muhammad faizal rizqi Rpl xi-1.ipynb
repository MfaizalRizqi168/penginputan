{
 "cells": [
  {
   "cell_type": "code",
   "execution_count": 9,
   "metadata": {},
   "outputs": [
    {
     "name": "stdout",
     "output_type": "stream",
     "text": [
      "************************************************\n",
      "Data Diri\n",
      "************************************************\n",
      "NIS    : 11806745\n",
      "Nama   : muhammad fajar shodiq\n",
      "JK     : laki laki\n",
      "Rayon  : cisarua 5\n",
      "Rombel : rpl xi-1\n",
      "Masukan Nilai B.Indonesia     : 90\n",
      "Masukan Nilai Matematika      : 95\n",
      "Masukan Nilai Bahasa inggris  : 98\n",
      "************************************************\n",
      "Data Diri\n",
      "************************************************\n",
      "NIS    :  11806745\n",
      "Nama   :  muhammad fajar shodiq\n",
      "JK     :  laki laki\n",
      "Rayon  :  cisarua 5\n",
      "Rombel :  rpl xi-1\n",
      "************************************************\n",
      "Nilai\n",
      "************************************************\n",
      "Bahasa Indonesia :  90.0\n",
      "Matematika       :  95.0\n",
      "Bahasa Inggris   :  98.0\n",
      "************************************************\n",
      "Rata-rata   :  94.33333333333333\n",
      "Lulus\n"
     ]
    }
   ],
   "source": [
    "print (\"************************************************\")\n",
    "print (\"Data Diri\")\n",
    "print (\"************************************************\")\n",
    "nis = input(\"NIS    : \")\n",
    "nama = input (\"Nama   : \")\n",
    "jk=input(\"JK     : \")\n",
    "rayon=input(\"Rayon  : \")\n",
    "rombel = input (\"Rombel : \")\n",
    "bindo = float(input(\"Masukan Nilai B.Indonesia     : \"))\n",
    "mtk = float(input  (\"Masukan Nilai Matematika      : \"))\n",
    "bing = float(input (\"Masukan Nilai Bahasa inggris  : \"))\n",
    "print (\"************************************************\")\n",
    "print(\"Data Diri\")\n",
    "print (\"************************************************\")\n",
    "print (\"NIS    : \",nis)\n",
    "print (\"Nama   : \", nama)\n",
    "print (\"JK     : \", jk)\n",
    "print (\"Rayon  : \", rayon)\n",
    "print (\"Rombel : \",rombel)\n",
    "print (\"************************************************\")\n",
    "print(\"Nilai\")\n",
    "print (\"************************************************\")\n",
    "print (\"Bahasa Indonesia : \",bindo)\n",
    "print (\"Matematika       : \",mtk)\n",
    "print (\"Bahasa Inggris   : \",bing)\n",
    "print (\"************************************************\")\n",
    "rata2 =  (bindo+mtk+bing)/3\n",
    "print (\"Rata-rata   : \",rata2)\n",
    "if rata2 >=75:\n",
    "    print (\"Lulus\")\n",
    "else:\n",
    "    print(\"Tidak Lulus\")"
   ]
  },
  {
   "cell_type": "code",
   "execution_count": null,
   "metadata": {},
   "outputs": [],
   "source": [
    "\n"
   ]
  },
  {
   "cell_type": "code",
   "execution_count": null,
   "metadata": {},
   "outputs": [],
   "source": []
  },
  {
   "cell_type": "code",
   "execution_count": null,
   "metadata": {},
   "outputs": [],
   "source": []
  },
  {
   "cell_type": "code",
   "execution_count": null,
   "metadata": {},
   "outputs": [],
   "source": []
  }
 ],
 "metadata": {
  "kernelspec": {
   "display_name": "Python 3",
   "language": "python",
   "name": "python3"
  },
  "language_info": {
   "codemirror_mode": {
    "name": "ipython",
    "version": 3
   },
   "file_extension": ".py",
   "mimetype": "text/x-python",
   "name": "python",
   "nbconvert_exporter": "python",
   "pygments_lexer": "ipython3",
   "version": "3.7.3"
  }
 },
 "nbformat": 4,
 "nbformat_minor": 2
}
